{
 "cells": [
  {
   "cell_type": "code",
   "execution_count": null,
   "id": "ca1e034d",
   "metadata": {},
   "outputs": [],
   "source": [
    "Introduction to looping statements :"
   ]
  },
  {
   "cell_type": "code",
   "execution_count": null,
   "id": "59a51b78",
   "metadata": {},
   "outputs": [],
   "source": [
    "understanding the concept of for loops :"
   ]
  },
  {
   "cell_type": "code",
   "execution_count": null,
   "id": "ae8e8e35",
   "metadata": {},
   "outputs": [],
   "source": []
  },
  {
   "cell_type": "code",
   "execution_count": 1,
   "id": "62d32ac9",
   "metadata": {},
   "outputs": [],
   "source": [
    "students = ['kumar','naveen','vinay','naveed','sohail']"
   ]
  },
  {
   "cell_type": "code",
   "execution_count": 2,
   "id": "cb64e6f8",
   "metadata": {},
   "outputs": [
    {
     "name": "stdout",
     "output_type": "stream",
     "text": [
      "['kumar', 'naveen', 'vinay', 'naveed', 'sohail']\n"
     ]
    }
   ],
   "source": [
    "print(students)"
   ]
  },
  {
   "cell_type": "code",
   "execution_count": null,
   "id": "bf0e8b62",
   "metadata": {},
   "outputs": [],
   "source": []
  },
  {
   "cell_type": "code",
   "execution_count": null,
   "id": "c182bc7d",
   "metadata": {},
   "outputs": [],
   "source": [
    "1st approach :"
   ]
  },
  {
   "cell_type": "code",
   "execution_count": 4,
   "id": "d378a87e",
   "metadata": {},
   "outputs": [
    {
     "name": "stdout",
     "output_type": "stream",
     "text": [
      " keep up the good work,kumar\n"
     ]
    }
   ],
   "source": [
    "message = f\" keep up the good work,{students[0]}\"\n",
    "print(message)"
   ]
  },
  {
   "cell_type": "code",
   "execution_count": 5,
   "id": "724e5644",
   "metadata": {},
   "outputs": [
    {
     "name": "stdout",
     "output_type": "stream",
     "text": [
      " keep up the good work,naveen\n"
     ]
    }
   ],
   "source": [
    "message = f\" keep up the good work,{students[1]}\"\n",
    "print(message)"
   ]
  },
  {
   "cell_type": "code",
   "execution_count": 6,
   "id": "c1a7ed7f",
   "metadata": {},
   "outputs": [
    {
     "name": "stdout",
     "output_type": "stream",
     "text": [
      " keep up the good work,Vinay\n"
     ]
    }
   ],
   "source": [
    "message = f\" keep up the good work,{students[2].title()}\"\n",
    "print(message)"
   ]
  },
  {
   "cell_type": "code",
   "execution_count": null,
   "id": "f8f0f1b4",
   "metadata": {},
   "outputs": [],
   "source": []
  },
  {
   "cell_type": "code",
   "execution_count": null,
   "id": "1ab58315",
   "metadata": {},
   "outputs": [],
   "source": [
    "# General syntax of a for loop :"
   ]
  },
  {
   "cell_type": "code",
   "execution_count": null,
   "id": "66808a43",
   "metadata": {},
   "outputs": [],
   "source": [
    "for tempvar in mainvar:\n",
    "    print(tempvar)"
   ]
  },
  {
   "cell_type": "code",
   "execution_count": 7,
   "id": "d2da96f9",
   "metadata": {},
   "outputs": [
    {
     "name": "stdout",
     "output_type": "stream",
     "text": [
      "keep up the good work,Kumar\n",
      "keep up the good work,Naveen\n",
      "keep up the good work,Vinay\n",
      "keep up the good work,Naveed\n",
      "keep up the good work,Sohail\n"
     ]
    }
   ],
   "source": [
    "for x in students:\n",
    "    print(f\"keep up the good work,{x.title()}\")"
   ]
  },
  {
   "cell_type": "code",
   "execution_count": null,
   "id": "3207be2a",
   "metadata": {},
   "outputs": [],
   "source": []
  },
  {
   "cell_type": "code",
   "execution_count": null,
   "id": "49fad487",
   "metadata": {},
   "outputs": [],
   "source": [
    "#  enhancement of the code..."
   ]
  },
  {
   "cell_type": "code",
   "execution_count": 8,
   "id": "b821edbd",
   "metadata": {},
   "outputs": [
    {
     "name": "stdout",
     "output_type": "stream",
     "text": [
      "keep up the good work,Kumar\n",
      "i will be looking forward to receive your github urls of today, Kumar\n",
      "keep up the good work,Naveen\n",
      "i will be looking forward to receive your github urls of today, Naveen\n",
      "keep up the good work,Vinay\n",
      "i will be looking forward to receive your github urls of today, Vinay\n",
      "keep up the good work,Naveed\n",
      "i will be looking forward to receive your github urls of today, Naveed\n",
      "keep up the good work,Sohail\n",
      "i will be looking forward to receive your github urls of today, Sohail\n"
     ]
    }
   ],
   "source": [
    "for x in students:\n",
    "    print(f\"keep up the good work,{x.title()}\")\n",
    "    print(f\"i will be looking forward to receive your github urls of today, {x.title()}\")"
   ]
  },
  {
   "cell_type": "code",
   "execution_count": null,
   "id": "2b7bfc15",
   "metadata": {},
   "outputs": [],
   "source": [
    "#  enhancement of the code..."
   ]
  },
  {
   "cell_type": "code",
   "execution_count": 9,
   "id": "3685115d",
   "metadata": {},
   "outputs": [
    {
     "name": "stdout",
     "output_type": "stream",
     "text": [
      "keep up the good work,Kumar\n",
      "i will be looking forward to receive your github urls of today, Kumar\n",
      "\n",
      "keep up the good work,Naveen\n",
      "i will be looking forward to receive your github urls of today, Naveen\n",
      "\n",
      "keep up the good work,Vinay\n",
      "i will be looking forward to receive your github urls of today, Vinay\n",
      "\n",
      "keep up the good work,Naveed\n",
      "i will be looking forward to receive your github urls of today, Naveed\n",
      "\n",
      "keep up the good work,Sohail\n",
      "i will be looking forward to receive your github urls of today, Sohail\n",
      "\n"
     ]
    }
   ],
   "source": [
    "for x in students:\n",
    "    print(f\"keep up the good work,{x.title()}\")\n",
    "    print(f\"i will be looking forward to receive your github urls of today, {x.title()}\\n\")"
   ]
  },
  {
   "cell_type": "code",
   "execution_count": 12,
   "id": "a6342cac",
   "metadata": {},
   "outputs": [
    {
     "name": "stdout",
     "output_type": "stream",
     "text": [
      "keep up the good work,Kumar\n",
      "i will be looking forward to receive your github urls of today, Kumar\n",
      "keep up the good work,Naveen\n",
      "i will be looking forward to receive your github urls of today, Naveen\n",
      "keep up the good work,Vinay\n",
      "i will be looking forward to receive your github urls of today, Vinay\n",
      "keep up the good work,Naveed\n",
      "i will be looking forward to receive your github urls of today, Naveed\n",
      "keep up the good work,Sohail\n",
      "i will be looking forward to receive your github urls of today, Sohail\n",
      "Thank you all for joining in the python training sessions\n"
     ]
    }
   ],
   "source": [
    "for x in students:\n",
    "    print(f\"keep up the good work,{x.title()}\")\n",
    "    print(f\"i will be looking forward to receive your github urls of today, {x.title()}\")\n",
    "print(\"Thank you all for joining in the python training sessions\")   "
   ]
  },
  {
   "cell_type": "code",
   "execution_count": null,
   "id": "e306c162",
   "metadata": {},
   "outputs": [],
   "source": [
    "for tempvar in mainvar:\n",
    "    print(tempvar)\n",
    "    \n",
    "# indentation.... upto 4 space or tab    "
   ]
  },
  {
   "cell_type": "code",
   "execution_count": 13,
   "id": "2f2e5bd6",
   "metadata": {},
   "outputs": [
    {
     "ename": "IndentationError",
     "evalue": "expected an indented block (Temp/ipykernel_6120/2829379544.py, line 2)",
     "output_type": "error",
     "traceback": [
      "\u001b[1;36m  File \u001b[1;32m\"C:\\Users\\jyoti\\AppData\\Local\\Temp/ipykernel_6120/2829379544.py\"\u001b[1;36m, line \u001b[1;32m2\u001b[0m\n\u001b[1;33m    print(tempvar)\u001b[0m\n\u001b[1;37m    ^\u001b[0m\n\u001b[1;31mIndentationError\u001b[0m\u001b[1;31m:\u001b[0m expected an indented block\n"
     ]
    }
   ],
   "source": [
    "for tempvar in mainvar:\n",
    "print(tempvar)"
   ]
  },
  {
   "cell_type": "code",
   "execution_count": 15,
   "id": "27b78f7f",
   "metadata": {},
   "outputs": [
    {
     "name": "stdout",
     "output_type": "stream",
     "text": [
      "kumar\n",
      "naveen\n",
      "vinay\n",
      "naveed\n",
      "sohail\n"
     ]
    }
   ],
   "source": [
    "for tempvar in students:\n",
    "    print(tempvar)"
   ]
  },
  {
   "cell_type": "code",
   "execution_count": null,
   "id": "3e8ceb6a",
   "metadata": {},
   "outputs": [],
   "source": []
  }
 ],
 "metadata": {
  "kernelspec": {
   "display_name": "Python 3 (ipykernel)",
   "language": "python",
   "name": "python3"
  },
  "language_info": {
   "codemirror_mode": {
    "name": "ipython",
    "version": 3
   },
   "file_extension": ".py",
   "mimetype": "text/x-python",
   "name": "python",
   "nbconvert_exporter": "python",
   "pygments_lexer": "ipython3",
   "version": "3.9.7"
  }
 },
 "nbformat": 4,
 "nbformat_minor": 5
}
