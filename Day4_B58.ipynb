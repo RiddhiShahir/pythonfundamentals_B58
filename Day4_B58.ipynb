{
 "cells": [
  {
   "cell_type": "code",
   "execution_count": null,
   "id": "1aa7c7d9",
   "metadata": {},
   "outputs": [],
   "source": [
    "Introduction to list datatype :    "
   ]
  },
  {
   "cell_type": "code",
   "execution_count": null,
   "id": "98d8a745",
   "metadata": {},
   "outputs": [],
   "source": [
    "Defination : A list is a collection of items declared in a particular order.\n",
    "    \n",
    "Classification : It is classified as a mutable datatype    \n",
    "    \n",
    "How to define / declare a list ...? ===> []    "
   ]
  },
  {
   "cell_type": "code",
   "execution_count": null,
   "id": "4ab5a5cc",
   "metadata": {},
   "outputs": [],
   "source": []
  },
  {
   "cell_type": "code",
   "execution_count": 1,
   "id": "af85679f",
   "metadata": {},
   "outputs": [],
   "source": [
    "Students = ['naveen','abdul','imran','joseph','keerthi','shaheen','dolly','navya']"
   ]
  },
  {
   "cell_type": "code",
   "execution_count": 3,
   "id": "77de494e",
   "metadata": {},
   "outputs": [
    {
     "name": "stdout",
     "output_type": "stream",
     "text": [
      "['naveen', 'abdul', 'imran', 'joseph', 'keerthi', 'shaheen', 'dolly', 'navya']\n"
     ]
    }
   ],
   "source": [
    "print(Students)"
   ]
  },
  {
   "cell_type": "code",
   "execution_count": 4,
   "id": "5f1163a9",
   "metadata": {},
   "outputs": [
    {
     "data": {
      "text/plain": [
       "list"
      ]
     },
     "execution_count": 4,
     "metadata": {},
     "output_type": "execute_result"
    }
   ],
   "source": [
    "type(Students)"
   ]
  },
  {
   "cell_type": "code",
   "execution_count": null,
   "id": "6911f0e5",
   "metadata": {},
   "outputs": [],
   "source": []
  },
  {
   "cell_type": "code",
   "execution_count": null,
   "id": "3398d063",
   "metadata": {},
   "outputs": [],
   "source": [
    "1. how to access the above elements in the list...?"
   ]
  },
  {
   "cell_type": "code",
   "execution_count": null,
   "id": "5c2552ef",
   "metadata": {},
   "outputs": [],
   "source": [
    "# req : i want to access abdul name from the above list, how to do that...?"
   ]
  },
  {
   "cell_type": "code",
   "execution_count": null,
   "id": "08b42788",
   "metadata": {},
   "outputs": [],
   "source": []
  },
  {
   "cell_type": "code",
   "execution_count": null,
   "id": "63a46432",
   "metadata": {},
   "outputs": [],
   "source": [
    "Introduction to indexing : 0,1,2,3,4....."
   ]
  },
  {
   "cell_type": "code",
   "execution_count": null,
   "id": "3cc532f6",
   "metadata": {},
   "outputs": [],
   "source": []
  },
  {
   "cell_type": "code",
   "execution_count": 5,
   "id": "47565f8e",
   "metadata": {},
   "outputs": [
    {
     "name": "stdout",
     "output_type": "stream",
     "text": [
      "abdul\n"
     ]
    }
   ],
   "source": [
    "print(Students[1])"
   ]
  },
  {
   "cell_type": "code",
   "execution_count": null,
   "id": "7ef481cd",
   "metadata": {},
   "outputs": [],
   "source": [
    "# req : i want to access keerthi name from the above list, how to do that...?"
   ]
  },
  {
   "cell_type": "code",
   "execution_count": 6,
   "id": "edaae7b9",
   "metadata": {},
   "outputs": [
    {
     "name": "stdout",
     "output_type": "stream",
     "text": [
      "keerthi\n"
     ]
    }
   ],
   "source": [
    "print(Students[4])"
   ]
  },
  {
   "cell_type": "code",
   "execution_count": null,
   "id": "9904f465",
   "metadata": {},
   "outputs": [],
   "source": []
  },
  {
   "cell_type": "code",
   "execution_count": null,
   "id": "4b750225",
   "metadata": {},
   "outputs": [],
   "source": [
    "1. How to add new elements to the list\n",
    "\n",
    "2. How to modify the elements in the list\n",
    "\n",
    "3. How to delete the elements from the above list...?"
   ]
  },
  {
   "cell_type": "code",
   "execution_count": null,
   "id": "d0ac112a",
   "metadata": {},
   "outputs": [],
   "source": []
  },
  {
   "cell_type": "code",
   "execution_count": 7,
   "id": "cdb3a37a",
   "metadata": {},
   "outputs": [
    {
     "name": "stdout",
     "output_type": "stream",
     "text": [
      "['naveen', 'abdul', 'imran', 'joseph', 'keerthi', 'shaheen', 'dolly', 'navya']\n"
     ]
    }
   ],
   "source": [
    "print(Students)"
   ]
  },
  {
   "cell_type": "code",
   "execution_count": null,
   "id": "f6d7709d",
   "metadata": {},
   "outputs": [],
   "source": [
    "# req : i want to add kumar name to the above list, how to do that...?"
   ]
  },
  {
   "cell_type": "code",
   "execution_count": 8,
   "id": "0e9993ca",
   "metadata": {},
   "outputs": [],
   "source": [
    "Students.append('kumar')"
   ]
  },
  {
   "cell_type": "code",
   "execution_count": 9,
   "id": "7609202d",
   "metadata": {},
   "outputs": [
    {
     "name": "stdout",
     "output_type": "stream",
     "text": [
      "['naveen', 'abdul', 'imran', 'joseph', 'keerthi', 'shaheen', 'dolly', 'navya', 'kumar']\n"
     ]
    }
   ],
   "source": [
    "print(Students)"
   ]
  },
  {
   "cell_type": "code",
   "execution_count": null,
   "id": "88553b82",
   "metadata": {},
   "outputs": [],
   "source": []
  },
  {
   "cell_type": "code",
   "execution_count": null,
   "id": "17524ad9",
   "metadata": {},
   "outputs": [],
   "source": [
    "# req : i want to add riddhi name to the above list, how to do that...?"
   ]
  },
  {
   "cell_type": "code",
   "execution_count": 11,
   "id": "95f2ddb1",
   "metadata": {},
   "outputs": [],
   "source": [
    "Students.append('riddhi')"
   ]
  },
  {
   "cell_type": "code",
   "execution_count": 12,
   "id": "ce40d48c",
   "metadata": {},
   "outputs": [
    {
     "name": "stdout",
     "output_type": "stream",
     "text": [
      "['naveen', 'abdul', 'imran', 'joseph', 'keerthi', 'shaheen', 'dolly', 'navya', 'kumar', 'riddhi']\n"
     ]
    }
   ],
   "source": [
    "print(Students)"
   ]
  },
  {
   "cell_type": "code",
   "execution_count": null,
   "id": "0757063c",
   "metadata": {},
   "outputs": [],
   "source": []
  },
  {
   "cell_type": "code",
   "execution_count": null,
   "id": "3a27b6ab",
   "metadata": {},
   "outputs": [],
   "source": [
    "# req : i want to add yamini name to the above list in the 2nd position , how to do that...?"
   ]
  },
  {
   "cell_type": "code",
   "execution_count": 13,
   "id": "f0795917",
   "metadata": {},
   "outputs": [],
   "source": [
    "Students.insert(2,'yamini')"
   ]
  },
  {
   "cell_type": "code",
   "execution_count": 14,
   "id": "2fae0f62",
   "metadata": {},
   "outputs": [
    {
     "name": "stdout",
     "output_type": "stream",
     "text": [
      "['naveen', 'abdul', 'yamini', 'imran', 'joseph', 'keerthi', 'shaheen', 'dolly', 'navya', 'kumar', 'riddhi']\n"
     ]
    }
   ],
   "source": [
    "print(Students)"
   ]
  },
  {
   "cell_type": "code",
   "execution_count": 15,
   "id": "0b766b83",
   "metadata": {},
   "outputs": [
    {
     "name": "stdout",
     "output_type": "stream",
     "text": [
      "yamini\n"
     ]
    }
   ],
   "source": [
    "print(Students[2])"
   ]
  },
  {
   "cell_type": "code",
   "execution_count": null,
   "id": "383409e8",
   "metadata": {},
   "outputs": [],
   "source": []
  },
  {
   "cell_type": "code",
   "execution_count": null,
   "id": "c10cfbcc",
   "metadata": {},
   "outputs": [],
   "source": [
    "Interview Question : what is the difference between append and insert method in the list...?"
   ]
  },
  {
   "cell_type": "code",
   "execution_count": null,
   "id": "34d8eac1",
   "metadata": {},
   "outputs": [],
   "source": []
  },
  {
   "cell_type": "code",
   "execution_count": 16,
   "id": "b7cfb48a",
   "metadata": {},
   "outputs": [
    {
     "name": "stdout",
     "output_type": "stream",
     "text": [
      "['naveen', 'abdul', 'yamini', 'imran', 'joseph', 'keerthi', 'shaheen', 'dolly', 'navya', 'kumar', 'riddhi']\n"
     ]
    }
   ],
   "source": [
    "print(Students)"
   ]
  },
  {
   "cell_type": "code",
   "execution_count": null,
   "id": "1f291d37",
   "metadata": {},
   "outputs": [],
   "source": [
    "# req : i want to modify naveen name to navya...?"
   ]
  },
  {
   "cell_type": "code",
   "execution_count": 17,
   "id": "5643b455",
   "metadata": {},
   "outputs": [
    {
     "name": "stdout",
     "output_type": "stream",
     "text": [
      "naveen\n"
     ]
    }
   ],
   "source": [
    "print(Students[0])"
   ]
  },
  {
   "cell_type": "code",
   "execution_count": 18,
   "id": "d7dde325",
   "metadata": {},
   "outputs": [],
   "source": [
    "Students[0]= 'navya'"
   ]
  },
  {
   "cell_type": "code",
   "execution_count": 19,
   "id": "43db98f6",
   "metadata": {},
   "outputs": [
    {
     "name": "stdout",
     "output_type": "stream",
     "text": [
      "['navya', 'abdul', 'yamini', 'imran', 'joseph', 'keerthi', 'shaheen', 'dolly', 'navya', 'kumar', 'riddhi']\n"
     ]
    }
   ],
   "source": [
    "print(Students)"
   ]
  },
  {
   "cell_type": "code",
   "execution_count": null,
   "id": "f7b7a671",
   "metadata": {},
   "outputs": [],
   "source": []
  },
  {
   "cell_type": "code",
   "execution_count": null,
   "id": "2f2c56b2",
   "metadata": {},
   "outputs": [],
   "source": [
    "# req : i want to delete joseph from the above list...?"
   ]
  },
  {
   "cell_type": "code",
   "execution_count": 20,
   "id": "187dd54f",
   "metadata": {},
   "outputs": [],
   "source": [
    "del Students[4] # permamently deleting the things."
   ]
  },
  {
   "cell_type": "code",
   "execution_count": 21,
   "id": "00ca0229",
   "metadata": {},
   "outputs": [
    {
     "name": "stdout",
     "output_type": "stream",
     "text": [
      "['navya', 'abdul', 'yamini', 'imran', 'keerthi', 'shaheen', 'dolly', 'navya', 'kumar', 'riddhi']\n"
     ]
    }
   ],
   "source": [
    "print(Students)"
   ]
  },
  {
   "cell_type": "code",
   "execution_count": null,
   "id": "393800fd",
   "metadata": {},
   "outputs": [],
   "source": []
  },
  {
   "cell_type": "code",
   "execution_count": null,
   "id": "2907e9b3",
   "metadata": {},
   "outputs": [],
   "source": [
    "# temparery deletion ...?"
   ]
  },
  {
   "cell_type": "code",
   "execution_count": null,
   "id": "b53e23a1",
   "metadata": {},
   "outputs": [],
   "source": [
    "pop ---> it is used to delete the things temp ===> it will be carbon copy of the deleted items and stores in a variable\n",
    "         that is assigned to it.\n",
    "\n",
    "pop ---> by default will delete the last element in the list.    "
   ]
  },
  {
   "cell_type": "code",
   "execution_count": 22,
   "id": "cb924c11",
   "metadata": {},
   "outputs": [
    {
     "name": "stdout",
     "output_type": "stream",
     "text": [
      "['navya', 'abdul', 'yamini', 'imran', 'keerthi', 'shaheen', 'dolly', 'navya', 'kumar', 'riddhi']\n"
     ]
    }
   ],
   "source": [
    "print(Students)"
   ]
  },
  {
   "cell_type": "code",
   "execution_count": 23,
   "id": "c765a5ad",
   "metadata": {},
   "outputs": [],
   "source": [
    "x = Students.pop()"
   ]
  },
  {
   "cell_type": "code",
   "execution_count": 24,
   "id": "826db49f",
   "metadata": {},
   "outputs": [
    {
     "name": "stdout",
     "output_type": "stream",
     "text": [
      "['navya', 'abdul', 'yamini', 'imran', 'keerthi', 'shaheen', 'dolly', 'navya', 'kumar']\n"
     ]
    }
   ],
   "source": [
    "print(Students)"
   ]
  },
  {
   "cell_type": "code",
   "execution_count": 25,
   "id": "e0dd7498",
   "metadata": {},
   "outputs": [
    {
     "name": "stdout",
     "output_type": "stream",
     "text": [
      "riddhi\n"
     ]
    }
   ],
   "source": [
    "print(x)"
   ]
  },
  {
   "cell_type": "code",
   "execution_count": 26,
   "id": "cb656c3d",
   "metadata": {},
   "outputs": [
    {
     "name": "stdout",
     "output_type": "stream",
     "text": [
      "['navya', 'abdul', 'yamini', 'imran', 'keerthi', 'shaheen', 'dolly', 'navya', 'kumar']\n"
     ]
    }
   ],
   "source": [
    "print(Students)"
   ]
  },
  {
   "cell_type": "code",
   "execution_count": 27,
   "id": "b9407f90",
   "metadata": {},
   "outputs": [],
   "source": [
    "del Students[7]"
   ]
  },
  {
   "cell_type": "code",
   "execution_count": 28,
   "id": "11b7fc0c",
   "metadata": {},
   "outputs": [
    {
     "name": "stdout",
     "output_type": "stream",
     "text": [
      "['navya', 'abdul', 'yamini', 'imran', 'keerthi', 'shaheen', 'dolly', 'kumar']\n"
     ]
    }
   ],
   "source": [
    "print(Students)"
   ]
  },
  {
   "cell_type": "code",
   "execution_count": null,
   "id": "341332f0",
   "metadata": {},
   "outputs": [],
   "source": []
  }
 ],
 "metadata": {
  "kernelspec": {
   "display_name": "Python 3 (ipykernel)",
   "language": "python",
   "name": "python3"
  },
  "language_info": {
   "codemirror_mode": {
    "name": "ipython",
    "version": 3
   },
   "file_extension": ".py",
   "mimetype": "text/x-python",
   "name": "python",
   "nbconvert_exporter": "python",
   "pygments_lexer": "ipython3",
   "version": "3.9.7"
  }
 },
 "nbformat": 4,
 "nbformat_minor": 5
}
