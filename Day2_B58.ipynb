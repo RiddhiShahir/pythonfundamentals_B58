{
 "cells": [
  {
   "cell_type": "code",
   "execution_count": null,
   "id": "d96be624",
   "metadata": {},
   "outputs": [],
   "source": [
    "Getting started in python fundamentals"
   ]
  },
  {
   "cell_type": "code",
   "execution_count": null,
   "id": "5e38119a",
   "metadata": {},
   "outputs": [],
   "source": []
  },
  {
   "cell_type": "code",
   "execution_count": null,
   "id": "0d352fa2",
   "metadata": {},
   "outputs": [],
   "source": [
    "understanding the variables in python"
   ]
  },
  {
   "cell_type": "code",
   "execution_count": 2,
   "id": "fc14b444",
   "metadata": {},
   "outputs": [],
   "source": [
    "x = 3\n",
    "y = 2"
   ]
  },
  {
   "cell_type": "code",
   "execution_count": 3,
   "id": "014123f5",
   "metadata": {},
   "outputs": [
    {
     "data": {
      "text/plain": [
       "5"
      ]
     },
     "execution_count": 3,
     "metadata": {},
     "output_type": "execute_result"
    }
   ],
   "source": [
    "x+y"
   ]
  },
  {
   "cell_type": "code",
   "execution_count": null,
   "id": "a8144fef",
   "metadata": {},
   "outputs": [],
   "source": []
  },
  {
   "cell_type": "code",
   "execution_count": null,
   "id": "c595e4e9",
   "metadata": {},
   "outputs": [],
   "source": [
    "Rules for declaring the variables in python:"
   ]
  },
  {
   "cell_type": "code",
   "execution_count": null,
   "id": "c12a6a84",
   "metadata": {},
   "outputs": [],
   "source": [
    "1. Rule No 1: A variable should not contain any namespaces."
   ]
  },
  {
   "cell_type": "code",
   "execution_count": null,
   "id": "4d263324",
   "metadata": {},
   "outputs": [],
   "source": []
  },
  {
   "cell_type": "code",
   "execution_count": 4,
   "id": "905588e8",
   "metadata": {},
   "outputs": [
    {
     "ename": "SyntaxError",
     "evalue": "invalid syntax (Temp/ipykernel_10160/2995631571.py, line 1)",
     "output_type": "error",
     "traceback": [
      "\u001b[1;36m  File \u001b[1;32m\"C:\\Users\\jyoti\\AppData\\Local\\Temp/ipykernel_10160/2995631571.py\"\u001b[1;36m, line \u001b[1;32m1\u001b[0m\n\u001b[1;33m    first name = 'Riddhi'\u001b[0m\n\u001b[1;37m          ^\u001b[0m\n\u001b[1;31mSyntaxError\u001b[0m\u001b[1;31m:\u001b[0m invalid syntax\n"
     ]
    }
   ],
   "source": [
    "first name = 'Riddhi'\n",
    "print(first name)"
   ]
  },
  {
   "cell_type": "code",
   "execution_count": 5,
   "id": "972d288a",
   "metadata": {},
   "outputs": [
    {
     "name": "stdout",
     "output_type": "stream",
     "text": [
      "Riddhi\n"
     ]
    }
   ],
   "source": [
    "firstname= 'Riddhi'\n",
    "print(firstname)"
   ]
  },
  {
   "cell_type": "code",
   "execution_count": 6,
   "id": "a4bef258",
   "metadata": {},
   "outputs": [
    {
     "name": "stdout",
     "output_type": "stream",
     "text": [
      "Riddhi\n"
     ]
    }
   ],
   "source": [
    "first_name = 'Riddhi'\n",
    "print(first_name)"
   ]
  },
  {
   "cell_type": "code",
   "execution_count": null,
   "id": "e6a1180e",
   "metadata": {},
   "outputs": [],
   "source": []
  },
  {
   "cell_type": "code",
   "execution_count": null,
   "id": "8c45ffbe",
   "metadata": {},
   "outputs": [],
   "source": [
    "Rule No 2: A variable name should not start with a number **"
   ]
  },
  {
   "cell_type": "code",
   "execution_count": 7,
   "id": "2b4da9a7",
   "metadata": {},
   "outputs": [
    {
     "ename": "SyntaxError",
     "evalue": "invalid syntax (Temp/ipykernel_10160/2169741173.py, line 1)",
     "output_type": "error",
     "traceback": [
      "\u001b[1;36m  File \u001b[1;32m\"C:\\Users\\jyoti\\AppData\\Local\\Temp/ipykernel_10160/2169741173.py\"\u001b[1;36m, line \u001b[1;32m1\u001b[0m\n\u001b[1;33m    1name = 'Riddhi'\u001b[0m\n\u001b[1;37m     ^\u001b[0m\n\u001b[1;31mSyntaxError\u001b[0m\u001b[1;31m:\u001b[0m invalid syntax\n"
     ]
    }
   ],
   "source": [
    "1name = 'Riddhi'\n",
    "print(1name)"
   ]
  },
  {
   "cell_type": "code",
   "execution_count": 8,
   "id": "d287cd4e",
   "metadata": {},
   "outputs": [
    {
     "name": "stdout",
     "output_type": "stream",
     "text": [
      "Riddhi\n"
     ]
    }
   ],
   "source": [
    "name1 = 'Riddhi'\n",
    "print(name1)"
   ]
  },
  {
   "cell_type": "code",
   "execution_count": null,
   "id": "f4b1dedb",
   "metadata": {},
   "outputs": [],
   "source": []
  },
  {
   "cell_type": "code",
   "execution_count": null,
   "id": "9bbf1591",
   "metadata": {},
   "outputs": [],
   "source": [
    "Rule No 3: A variable name should not contain any special characters."
   ]
  },
  {
   "cell_type": "code",
   "execution_count": null,
   "id": "a5d11c5c",
   "metadata": {},
   "outputs": [],
   "source": [
    "$@^*&"
   ]
  },
  {
   "cell_type": "code",
   "execution_count": 9,
   "id": "e8ffc18a",
   "metadata": {},
   "outputs": [
    {
     "ename": "SyntaxError",
     "evalue": "invalid syntax (Temp/ipykernel_10160/2906375905.py, line 1)",
     "output_type": "error",
     "traceback": [
      "\u001b[1;36m  File \u001b[1;32m\"C:\\Users\\jyoti\\AppData\\Local\\Temp/ipykernel_10160/2906375905.py\"\u001b[1;36m, line \u001b[1;32m1\u001b[0m\n\u001b[1;33m    name@ = 'Riddhi'\u001b[0m\n\u001b[1;37m          ^\u001b[0m\n\u001b[1;31mSyntaxError\u001b[0m\u001b[1;31m:\u001b[0m invalid syntax\n"
     ]
    }
   ],
   "source": [
    "name@ = 'Riddhi'\n",
    "print(name@)"
   ]
  },
  {
   "cell_type": "code",
   "execution_count": null,
   "id": "b5b9e0b6",
   "metadata": {},
   "outputs": [],
   "source": []
  },
  {
   "cell_type": "code",
   "execution_count": null,
   "id": "547b7dd0",
   "metadata": {},
   "outputs": [],
   "source": [
    "Introduction to datatypes in python:\n",
    " \n",
    "1. String===> str\n",
    "2. Numbers---> integers(int)and float (float(decimals))\n",
    "3. list===>list\n",
    "4. tuple===> tuple\n",
    "5. Dictionaries===> dict"
   ]
  },
  {
   "cell_type": "code",
   "execution_count": null,
   "id": "8019c9e3",
   "metadata": {},
   "outputs": [],
   "source": []
  },
  {
   "cell_type": "code",
   "execution_count": null,
   "id": "de878518",
   "metadata": {},
   "outputs": [],
   "source": [
    "Classification of datatypes:\n",
    "    Data types are broadly classified into two categories:\n",
    "        1. mutable datatypes---> which we can edit or alter===> flexible\n",
    "        2. immutable datatype---> which we cannot edit or alter===> fixed"
   ]
  },
  {
   "cell_type": "code",
   "execution_count": null,
   "id": "bd975249",
   "metadata": {},
   "outputs": [],
   "source": []
  },
  {
   "cell_type": "code",
   "execution_count": null,
   "id": "48d57455",
   "metadata": {},
   "outputs": [],
   "source": [
    "Introduction to string datatype :\n",
    "   \n",
    "Defination : A string is a series of characters declared in quotes.\n",
    "    \n",
    "Classification : It is classified as an immutable datatype(fixed datatype)\n",
    "    \n",
    "how to declare the string datatype : ===> 3 possible options for declaring the string   \n",
    "    \n",
    "    1. single quote\n",
    "    2. double quote\n",
    "    3. triple quote"
   ]
  },
  {
   "cell_type": "code",
   "execution_count": null,
   "id": "be2b3ec8",
   "metadata": {},
   "outputs": [],
   "source": []
  },
  {
   "cell_type": "code",
   "execution_count": 10,
   "id": "c038ef4a",
   "metadata": {},
   "outputs": [
    {
     "name": "stdout",
     "output_type": "stream",
     "text": [
      "Riddhi\n"
     ]
    }
   ],
   "source": [
    "name = 'Riddhi' # single quote\n",
    "print(name)"
   ]
  },
  {
   "cell_type": "code",
   "execution_count": 11,
   "id": "bfea2c7d",
   "metadata": {},
   "outputs": [
    {
     "name": "stdout",
     "output_type": "stream",
     "text": [
      "Riddhi\n"
     ]
    }
   ],
   "source": [
    "name2=\"Riddhi\" # double quote\n",
    "print(name2)"
   ]
  },
  {
   "cell_type": "code",
   "execution_count": 12,
   "id": "cc9cf40d",
   "metadata": {},
   "outputs": [
    {
     "name": "stdout",
     "output_type": "stream",
     "text": [
      "Riddhi\n"
     ]
    }
   ],
   "source": [
    "name3=\"\"\"Riddhi\"\"\" # triple quote\n",
    "print(name3)"
   ]
  },
  {
   "cell_type": "code",
   "execution_count": 13,
   "id": "3707bc3b",
   "metadata": {},
   "outputs": [],
   "source": [
    "# hash is used for commenting the code...!"
   ]
  },
  {
   "cell_type": "code",
   "execution_count": 14,
   "id": "0291a9f2",
   "metadata": {},
   "outputs": [],
   "source": [
    "#Shift+enter button together on the keyboard to run the code"
   ]
  },
  {
   "cell_type": "code",
   "execution_count": null,
   "id": "0f60338b",
   "metadata": {},
   "outputs": [],
   "source": []
  },
  {
   "cell_type": "code",
   "execution_count": null,
   "id": "4dba5b9f",
   "metadata": {},
   "outputs": [],
   "source": [
    "Introduction to string methods :"
   ]
  },
  {
   "cell_type": "code",
   "execution_count": 15,
   "id": "51268cee",
   "metadata": {},
   "outputs": [
    {
     "data": {
      "text/plain": [
       "str"
      ]
     },
     "execution_count": 15,
     "metadata": {},
     "output_type": "execute_result"
    }
   ],
   "source": [
    "type(name)"
   ]
  },
  {
   "cell_type": "code",
   "execution_count": 16,
   "id": "26299df3",
   "metadata": {},
   "outputs": [
    {
     "data": {
      "text/plain": [
       "str"
      ]
     },
     "execution_count": 16,
     "metadata": {},
     "output_type": "execute_result"
    }
   ],
   "source": [
    "type(name2)"
   ]
  },
  {
   "cell_type": "code",
   "execution_count": 17,
   "id": "ca7cd17a",
   "metadata": {},
   "outputs": [
    {
     "data": {
      "text/plain": [
       "str"
      ]
     },
     "execution_count": 17,
     "metadata": {},
     "output_type": "execute_result"
    }
   ],
   "source": [
    "type(name3)"
   ]
  }
 ],
 "metadata": {
  "kernelspec": {
   "display_name": "Python 3 (ipykernel)",
   "language": "python",
   "name": "python3"
  },
  "language_info": {
   "codemirror_mode": {
    "name": "ipython",
    "version": 3
   },
   "file_extension": ".py",
   "mimetype": "text/x-python",
   "name": "python",
   "nbconvert_exporter": "python",
   "pygments_lexer": "ipython3",
   "version": "3.9.7"
  }
 },
 "nbformat": 4,
 "nbformat_minor": 5
}
