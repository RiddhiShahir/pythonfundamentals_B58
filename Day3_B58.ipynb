{
 "cells": [
  {
   "cell_type": "code",
   "execution_count": null,
   "id": "af30b6f2",
   "metadata": {},
   "outputs": [],
   "source": [
    "Continuation with strings :"
   ]
  },
  {
   "cell_type": "code",
   "execution_count": 2,
   "id": "6aa3f603",
   "metadata": {},
   "outputs": [
    {
     "name": "stdout",
     "output_type": "stream",
     "text": [
      "riddhi shahir\n"
     ]
    }
   ],
   "source": [
    "full_name = 'riddhi shahir'\n",
    "print(full_name)"
   ]
  },
  {
   "cell_type": "code",
   "execution_count": null,
   "id": "bbd395ce",
   "metadata": {},
   "outputs": [],
   "source": []
  },
  {
   "cell_type": "code",
   "execution_count": 3,
   "id": "ed84abbc",
   "metadata": {},
   "outputs": [
    {
     "name": "stdout",
     "output_type": "stream",
     "text": [
      "Riddhi Shahir\n"
     ]
    }
   ],
   "source": [
    "print(full_name.title())"
   ]
  },
  {
   "cell_type": "code",
   "execution_count": null,
   "id": "a910aa24",
   "metadata": {},
   "outputs": [],
   "source": []
  },
  {
   "cell_type": "code",
   "execution_count": null,
   "id": "3488b1c9",
   "metadata": {},
   "outputs": [],
   "source": [
    "# req: i want to get the fullname in capital letters...?"
   ]
  },
  {
   "cell_type": "code",
   "execution_count": 4,
   "id": "93ea6d7b",
   "metadata": {},
   "outputs": [
    {
     "name": "stdout",
     "output_type": "stream",
     "text": [
      "RIDDHI SHAHIR\n"
     ]
    }
   ],
   "source": [
    "print(full_name.upper())"
   ]
  },
  {
   "cell_type": "code",
   "execution_count": null,
   "id": "10c27f6e",
   "metadata": {},
   "outputs": [],
   "source": [
    "# req: i want to get the fullname in smallcase letters...?"
   ]
  },
  {
   "cell_type": "code",
   "execution_count": 5,
   "id": "e4062a6e",
   "metadata": {},
   "outputs": [
    {
     "name": "stdout",
     "output_type": "stream",
     "text": [
      "riddhi shahir\n"
     ]
    }
   ],
   "source": [
    "print(full_name.lower())"
   ]
  },
  {
   "cell_type": "code",
   "execution_count": null,
   "id": "933448d1",
   "metadata": {},
   "outputs": [],
   "source": []
  },
  {
   "cell_type": "code",
   "execution_count": null,
   "id": "ee7f6d58",
   "metadata": {},
   "outputs": [],
   "source": [
    "Introduction to f strings :"
   ]
  },
  {
   "cell_type": "code",
   "execution_count": null,
   "id": "1fe0e349",
   "metadata": {},
   "outputs": [],
   "source": [
    "# general syntax of an f string"
   ]
  },
  {
   "cell_type": "code",
   "execution_count": null,
   "id": "8342ce71",
   "metadata": {},
   "outputs": [],
   "source": [
    "f\"custom words {placeholder1}{placeholder2}....{placeholder n}\""
   ]
  },
  {
   "cell_type": "code",
   "execution_count": null,
   "id": "7b99dcd1",
   "metadata": {},
   "outputs": [],
   "source": []
  },
  {
   "cell_type": "code",
   "execution_count": 7,
   "id": "9c002c1f",
   "metadata": {},
   "outputs": [],
   "source": [
    "first_name = 'Riddhi'\n",
    "last_name = 'Shahir'"
   ]
  },
  {
   "cell_type": "code",
   "execution_count": null,
   "id": "2e5adae9",
   "metadata": {},
   "outputs": [],
   "source": [
    "# req: i want to get the full name...?"
   ]
  },
  {
   "cell_type": "code",
   "execution_count": 8,
   "id": "ff6210c3",
   "metadata": {},
   "outputs": [
    {
     "name": "stdout",
     "output_type": "stream",
     "text": [
      "Riddhi Shahir\n"
     ]
    }
   ],
   "source": [
    "full_name = f\"{first_name} {last_name}\"\n",
    "print(full_name)"
   ]
  },
  {
   "cell_type": "code",
   "execution_count": 9,
   "id": "fabcf6a9",
   "metadata": {},
   "outputs": [
    {
     "name": "stdout",
     "output_type": "stream",
     "text": [
      "keep up the good work,Riddhi Shahir\n"
     ]
    }
   ],
   "source": [
    "message = f\"keep up the good work,{full_name}\"\n",
    "print(message)"
   ]
  },
  {
   "cell_type": "code",
   "execution_count": 10,
   "id": "6e8d43b2",
   "metadata": {},
   "outputs": [
    {
     "name": "stdout",
     "output_type": "stream",
     "text": [
      "keep up the good work,RIDDHI SHAHIR\n"
     ]
    }
   ],
   "source": [
    "message = f\"keep up the good work,{full_name.upper()}\"\n",
    "print(message)"
   ]
  },
  {
   "cell_type": "code",
   "execution_count": null,
   "id": "a5d19edd",
   "metadata": {},
   "outputs": [],
   "source": []
  },
  {
   "cell_type": "code",
   "execution_count": null,
   "id": "805ea0ef",
   "metadata": {},
   "outputs": [],
   "source": [
    "Adding whitespaces to strings :"
   ]
  },
  {
   "cell_type": "code",
   "execution_count": null,
   "id": "ce2f4845",
   "metadata": {},
   "outputs": [],
   "source": []
  },
  {
   "cell_type": "code",
   "execution_count": 11,
   "id": "6cbbf35f",
   "metadata": {},
   "outputs": [
    {
     "name": "stdout",
     "output_type": "stream",
     "text": [
      "favourate_language:pythonc++javacjavascript\n"
     ]
    }
   ],
   "source": [
    "print(\"favourate_language:pythonc++javacjavascript\")"
   ]
  },
  {
   "cell_type": "code",
   "execution_count": 12,
   "id": "1672d01a",
   "metadata": {},
   "outputs": [
    {
     "name": "stdout",
     "output_type": "stream",
     "text": [
      "favourate_language:\n",
      "python\n",
      "c++\n",
      "java\n",
      "c\n",
      "javascript\n"
     ]
    }
   ],
   "source": [
    "print(\"favourate_language:\\npython\\nc++\\njava\\nc\\njavascript\")"
   ]
  },
  {
   "cell_type": "code",
   "execution_count": null,
   "id": "f26c9811",
   "metadata": {},
   "outputs": [],
   "source": [
    "\\n===> it is called as new line delimiter."
   ]
  },
  {
   "cell_type": "code",
   "execution_count": null,
   "id": "bf93bf7c",
   "metadata": {},
   "outputs": [],
   "source": []
  },
  {
   "cell_type": "code",
   "execution_count": 13,
   "id": "910f7f34",
   "metadata": {},
   "outputs": [
    {
     "name": "stdout",
     "output_type": "stream",
     "text": [
      "favourate_language:\n",
      "\tpython\n",
      "\tc++\n",
      "\tjava\n",
      "\tc\n",
      "\tjavascript\n"
     ]
    }
   ],
   "source": [
    "print(\"favourate_language:\\n\\tpython\\n\\tc++\\n\\tjava\\n\\tc\\n\\tjavascript\")"
   ]
  },
  {
   "cell_type": "code",
   "execution_count": null,
   "id": "fa102a1d",
   "metadata": {},
   "outputs": [],
   "source": [
    "\\t===> tab delimiter"
   ]
  },
  {
   "cell_type": "code",
   "execution_count": null,
   "id": "5fd83ae8",
   "metadata": {},
   "outputs": [],
   "source": []
  },
  {
   "cell_type": "code",
   "execution_count": null,
   "id": "7a091c12",
   "metadata": {},
   "outputs": [],
   "source": [
    "Removing whitespaces from strings :"
   ]
  },
  {
   "cell_type": "code",
   "execution_count": null,
   "id": "531070ae",
   "metadata": {},
   "outputs": [],
   "source": []
  },
  {
   "cell_type": "code",
   "execution_count": 14,
   "id": "2edff7ae",
   "metadata": {},
   "outputs": [
    {
     "name": "stdout",
     "output_type": "stream",
     "text": [
      "python\n"
     ]
    }
   ],
   "source": [
    "name = 'python'\n",
    "print(name)"
   ]
  },
  {
   "cell_type": "code",
   "execution_count": 15,
   "id": "6652da00",
   "metadata": {},
   "outputs": [
    {
     "name": "stdout",
     "output_type": "stream",
     "text": [
      "  java\n"
     ]
    }
   ],
   "source": [
    "name2 = '  java'\n",
    "print(name2)"
   ]
  },
  {
   "cell_type": "code",
   "execution_count": 16,
   "id": "4ab1fd8a",
   "metadata": {},
   "outputs": [
    {
     "name": "stdout",
     "output_type": "stream",
     "text": [
      "c++  \n"
     ]
    }
   ],
   "source": [
    "name3 = 'c++  '\n",
    "print(name3)"
   ]
  },
  {
   "cell_type": "code",
   "execution_count": 17,
   "id": "278a6fdd",
   "metadata": {},
   "outputs": [
    {
     "data": {
      "text/plain": [
       "'java'"
      ]
     },
     "execution_count": 17,
     "metadata": {},
     "output_type": "execute_result"
    }
   ],
   "source": [
    "name2.lstrip()"
   ]
  },
  {
   "cell_type": "code",
   "execution_count": 18,
   "id": "c8f39cf8",
   "metadata": {},
   "outputs": [
    {
     "data": {
      "text/plain": [
       "'c++'"
      ]
     },
     "execution_count": 18,
     "metadata": {},
     "output_type": "execute_result"
    }
   ],
   "source": [
    "name3.rstrip()"
   ]
  },
  {
   "cell_type": "code",
   "execution_count": null,
   "id": "8b9ff235",
   "metadata": {},
   "outputs": [],
   "source": [
    "# .lstrip method () will strip left side gap\n",
    "# .rstrip method () will strip the right side gap"
   ]
  },
  {
   "cell_type": "code",
   "execution_count": null,
   "id": "5e0acf8e",
   "metadata": {},
   "outputs": [],
   "source": []
  }
 ],
 "metadata": {
  "kernelspec": {
   "display_name": "Python 3 (ipykernel)",
   "language": "python",
   "name": "python3"
  },
  "language_info": {
   "codemirror_mode": {
    "name": "ipython",
    "version": 3
   },
   "file_extension": ".py",
   "mimetype": "text/x-python",
   "name": "python",
   "nbconvert_exporter": "python",
   "pygments_lexer": "ipython3",
   "version": "3.9.7"
  }
 },
 "nbformat": 4,
 "nbformat_minor": 5
}
