{
 "cells": [
  {
   "cell_type": "code",
   "execution_count": null,
   "id": "38e6646a",
   "metadata": {},
   "outputs": [],
   "source": [
    "Introduction to tuple datatype :"
   ]
  },
  {
   "cell_type": "code",
   "execution_count": null,
   "id": "487dba6f",
   "metadata": {},
   "outputs": [],
   "source": [
    "defination : An immutable list is called as tuple data type.\n",
    "    \n",
    "classification : it is classified as an immutable datatype.\n",
    "    \n",
    "How do you define the tuple data type ---> ()"
   ]
  },
  {
   "cell_type": "code",
   "execution_count": null,
   "id": "73d4696f",
   "metadata": {},
   "outputs": [],
   "source": []
  },
  {
   "cell_type": "code",
   "execution_count": 1,
   "id": "307856db",
   "metadata": {},
   "outputs": [],
   "source": [
    "students = ('niklhil','praveen','raheem','imran','keerthi','farida','riddhi')"
   ]
  },
  {
   "cell_type": "code",
   "execution_count": 2,
   "id": "fa00342c",
   "metadata": {},
   "outputs": [
    {
     "name": "stdout",
     "output_type": "stream",
     "text": [
      "('niklhil', 'praveen', 'raheem', 'imran', 'keerthi', 'farida', 'riddhi')\n"
     ]
    }
   ],
   "source": [
    "print(students)"
   ]
  },
  {
   "cell_type": "code",
   "execution_count": 3,
   "id": "f40ee13e",
   "metadata": {},
   "outputs": [
    {
     "data": {
      "text/plain": [
       "tuple"
      ]
     },
     "execution_count": 3,
     "metadata": {},
     "output_type": "execute_result"
    }
   ],
   "source": [
    "type(students)"
   ]
  },
  {
   "cell_type": "code",
   "execution_count": null,
   "id": "48f661bc",
   "metadata": {},
   "outputs": [],
   "source": []
  },
  {
   "cell_type": "code",
   "execution_count": null,
   "id": "4bc8316e",
   "metadata": {},
   "outputs": [],
   "source": [
    "# req : i want to change nikhil name ---> naveed"
   ]
  },
  {
   "cell_type": "code",
   "execution_count": 4,
   "id": "90991f68",
   "metadata": {},
   "outputs": [
    {
     "ename": "TypeError",
     "evalue": "'tuple' object does not support item assignment",
     "output_type": "error",
     "traceback": [
      "\u001b[1;31m---------------------------------------------------------------------------\u001b[0m",
      "\u001b[1;31mTypeError\u001b[0m                                 Traceback (most recent call last)",
      "\u001b[1;32m~\\AppData\\Local\\Temp/ipykernel_15092/16911409.py\u001b[0m in \u001b[0;36m<module>\u001b[1;34m\u001b[0m\n\u001b[1;32m----> 1\u001b[1;33m \u001b[0mstudents\u001b[0m\u001b[1;33m[\u001b[0m\u001b[1;36m0\u001b[0m\u001b[1;33m]\u001b[0m \u001b[1;33m=\u001b[0m \u001b[1;34m'naveen'\u001b[0m\u001b[1;33m\u001b[0m\u001b[1;33m\u001b[0m\u001b[0m\n\u001b[0m",
      "\u001b[1;31mTypeError\u001b[0m: 'tuple' object does not support item assignment"
     ]
    }
   ],
   "source": [
    "students[0] = 'naveen'"
   ]
  },
  {
   "cell_type": "code",
   "execution_count": null,
   "id": "dd35b9c7",
   "metadata": {},
   "outputs": [],
   "source": []
  },
  {
   "cell_type": "code",
   "execution_count": 5,
   "id": "95affb21",
   "metadata": {},
   "outputs": [
    {
     "name": "stdout",
     "output_type": "stream",
     "text": [
      "(200, 50)\n"
     ]
    }
   ],
   "source": [
    "dimentions = (200, 50)\n",
    "print(dimentions)"
   ]
  },
  {
   "cell_type": "code",
   "execution_count": null,
   "id": "a8823f00",
   "metadata": {},
   "outputs": [],
   "source": []
  },
  {
   "cell_type": "code",
   "execution_count": null,
   "id": "c1f130d5",
   "metadata": {},
   "outputs": [],
   "source": [
    "# req : i want to change the dimention from 200,250...?"
   ]
  },
  {
   "cell_type": "code",
   "execution_count": 6,
   "id": "73fb7ee2",
   "metadata": {},
   "outputs": [
    {
     "name": "stdout",
     "output_type": "stream",
     "text": [
      "(250, 50)\n"
     ]
    }
   ],
   "source": [
    "dimentions = (250,50)\n",
    "print(dimentions)"
   ]
  },
  {
   "cell_type": "code",
   "execution_count": null,
   "id": "78a22564",
   "metadata": {},
   "outputs": [],
   "source": [
    "# land ---> house ===> blueprint ---> hall, bedrooms, kitchen ===> fixed data ===>\n",
    "\n",
    "6 months ===>"
   ]
  },
  {
   "cell_type": "code",
   "execution_count": 7,
   "id": "c696627f",
   "metadata": {},
   "outputs": [
    {
     "name": "stdout",
     "output_type": "stream",
     "text": [
      "('niklhil', 'praveen', 'raheem', 'imran', 'keerthi', 'farida', 'riddhi')\n"
     ]
    }
   ],
   "source": [
    "print(students)"
   ]
  },
  {
   "cell_type": "code",
   "execution_count": null,
   "id": "f9d998e3",
   "metadata": {},
   "outputs": [],
   "source": [
    "# req : i want to get praveen name in the output ...?"
   ]
  },
  {
   "cell_type": "code",
   "execution_count": 8,
   "id": "dcb04ea2",
   "metadata": {},
   "outputs": [
    {
     "name": "stdout",
     "output_type": "stream",
     "text": [
      "praveen\n"
     ]
    }
   ],
   "source": [
    "print(students[1])"
   ]
  },
  {
   "cell_type": "code",
   "execution_count": null,
   "id": "d4e45201",
   "metadata": {},
   "outputs": [],
   "source": [
    "# req : i want to implement a for loop on the tuple ...?"
   ]
  },
  {
   "cell_type": "code",
   "execution_count": 9,
   "id": "e99807f2",
   "metadata": {},
   "outputs": [
    {
     "name": "stdout",
     "output_type": "stream",
     "text": [
      "niklhil\n",
      "praveen\n",
      "raheem\n",
      "imran\n",
      "keerthi\n",
      "farida\n",
      "riddhi\n"
     ]
    }
   ],
   "source": [
    "for x in students:\n",
    "    print(x)"
   ]
  },
  {
   "cell_type": "code",
   "execution_count": null,
   "id": "e1dc23ae",
   "metadata": {},
   "outputs": [],
   "source": []
  }
 ],
 "metadata": {
  "kernelspec": {
   "display_name": "Python 3 (ipykernel)",
   "language": "python",
   "name": "python3"
  },
  "language_info": {
   "codemirror_mode": {
    "name": "ipython",
    "version": 3
   },
   "file_extension": ".py",
   "mimetype": "text/x-python",
   "name": "python",
   "nbconvert_exporter": "python",
   "pygments_lexer": "ipython3",
   "version": "3.9.7"
  }
 },
 "nbformat": 4,
 "nbformat_minor": 5
}
