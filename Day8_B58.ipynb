{
 "cells": [
  {
   "cell_type": "code",
   "execution_count": null,
   "id": "9af3829b",
   "metadata": {},
   "outputs": [],
   "source": [
    "Introduction to dictionary datatype : **"
   ]
  },
  {
   "cell_type": "code",
   "execution_count": null,
   "id": "001c3b24",
   "metadata": {},
   "outputs": [],
   "source": [
    "Defination : A dictionary is a combination of key - value pairs.\n",
    "    \n",
    "Classification : It is classified as a mutable datatype.\n",
    "    \n",
    "How to define a dictionary ...?  {}\n",
    "\n",
    "In short form it is written as dict"
   ]
  },
  {
   "cell_type": "code",
   "execution_count": null,
   "id": "05d752d2",
   "metadata": {},
   "outputs": [],
   "source": []
  },
  {
   "cell_type": "code",
   "execution_count": null,
   "id": "d120db7c",
   "metadata": {},
   "outputs": [],
   "source": [
    "# designing an alien game...?"
   ]
  },
  {
   "cell_type": "code",
   "execution_count": 1,
   "id": "b48911f3",
   "metadata": {},
   "outputs": [],
   "source": [
    "alien ={'color':'green','points':5}"
   ]
  },
  {
   "cell_type": "code",
   "execution_count": 2,
   "id": "5bdaf449",
   "metadata": {},
   "outputs": [
    {
     "name": "stdout",
     "output_type": "stream",
     "text": [
      "{'color': 'green', 'points': 5}\n"
     ]
    }
   ],
   "source": [
    "print(alien)"
   ]
  },
  {
   "cell_type": "code",
   "execution_count": null,
   "id": "9dbf7879",
   "metadata": {},
   "outputs": [],
   "source": []
  },
  {
   "cell_type": "code",
   "execution_count": 3,
   "id": "4ecc19da",
   "metadata": {},
   "outputs": [
    {
     "data": {
      "text/plain": [
       "dict"
      ]
     },
     "execution_count": 3,
     "metadata": {},
     "output_type": "execute_result"
    }
   ],
   "source": [
    "type(alien)"
   ]
  },
  {
   "cell_type": "code",
   "execution_count": null,
   "id": "a24bc330",
   "metadata": {},
   "outputs": [],
   "source": [
    "# how to access the elements in the dict ...?"
   ]
  },
  {
   "cell_type": "code",
   "execution_count": 4,
   "id": "7389d069",
   "metadata": {},
   "outputs": [
    {
     "name": "stdout",
     "output_type": "stream",
     "text": [
      "green\n"
     ]
    }
   ],
   "source": [
    "print(alien['color'])"
   ]
  },
  {
   "cell_type": "code",
   "execution_count": null,
   "id": "e19227b6",
   "metadata": {},
   "outputs": [],
   "source": [
    "note : give the key and get the value.\n",
    "    \n",
    "in a dict keys will be acting as an indexes."
   ]
  },
  {
   "cell_type": "code",
   "execution_count": 5,
   "id": "ecfedd26",
   "metadata": {},
   "outputs": [
    {
     "name": "stdout",
     "output_type": "stream",
     "text": [
      "5\n"
     ]
    }
   ],
   "source": [
    "print(alien['points'])"
   ]
  },
  {
   "cell_type": "code",
   "execution_count": null,
   "id": "6aa9d495",
   "metadata": {},
   "outputs": [],
   "source": []
  },
  {
   "cell_type": "code",
   "execution_count": null,
   "id": "10c4d560",
   "metadata": {},
   "outputs": [],
   "source": [
    "# opposite."
   ]
  },
  {
   "cell_type": "code",
   "execution_count": 6,
   "id": "ae147892",
   "metadata": {},
   "outputs": [
    {
     "ename": "KeyError",
     "evalue": "'green'",
     "output_type": "error",
     "traceback": [
      "\u001b[1;31m---------------------------------------------------------------------------\u001b[0m",
      "\u001b[1;31mKeyError\u001b[0m                                  Traceback (most recent call last)",
      "\u001b[1;32m~\\AppData\\Local\\Temp/ipykernel_10720/3756911678.py\u001b[0m in \u001b[0;36m<module>\u001b[1;34m\u001b[0m\n\u001b[1;32m----> 1\u001b[1;33m \u001b[0mprint\u001b[0m\u001b[1;33m(\u001b[0m\u001b[0malien\u001b[0m\u001b[1;33m[\u001b[0m\u001b[1;34m'green'\u001b[0m\u001b[1;33m]\u001b[0m\u001b[1;33m)\u001b[0m\u001b[1;33m\u001b[0m\u001b[1;33m\u001b[0m\u001b[0m\n\u001b[0m",
      "\u001b[1;31mKeyError\u001b[0m: 'green'"
     ]
    }
   ],
   "source": [
    "print(alien['green'])"
   ]
  },
  {
   "cell_type": "code",
   "execution_count": null,
   "id": "703b2c6a",
   "metadata": {},
   "outputs": [],
   "source": [
    "# how to add new key value pair to the dictionary..."
   ]
  },
  {
   "cell_type": "code",
   "execution_count": null,
   "id": "ffe93990",
   "metadata": {},
   "outputs": [],
   "source": [
    "# req : i want to add start position ...? 0"
   ]
  },
  {
   "cell_type": "code",
   "execution_count": 7,
   "id": "f3a21f87",
   "metadata": {},
   "outputs": [],
   "source": [
    "alien['start_position'] = 0 # key and value...!"
   ]
  },
  {
   "cell_type": "code",
   "execution_count": 8,
   "id": "dc638784",
   "metadata": {},
   "outputs": [
    {
     "name": "stdout",
     "output_type": "stream",
     "text": [
      "{'color': 'green', 'points': 5, 'start_position': 0}\n"
     ]
    }
   ],
   "source": [
    "print(alien)"
   ]
  },
  {
   "cell_type": "code",
   "execution_count": null,
   "id": "e5f803e3",
   "metadata": {},
   "outputs": [],
   "source": []
  },
  {
   "cell_type": "code",
   "execution_count": null,
   "id": "fb76342e",
   "metadata": {},
   "outputs": [],
   "source": [
    "# facebook : ===> create new user account in facebook...?"
   ]
  },
  {
   "cell_type": "code",
   "execution_count": null,
   "id": "85711f33",
   "metadata": {},
   "outputs": [],
   "source": []
  },
  {
   "cell_type": "code",
   "execution_count": 9,
   "id": "4fd3eb52",
   "metadata": {},
   "outputs": [],
   "source": [
    "useraccount ={'username': 'codetrainingacademy','first_name':'code','last_name':'training','dob':'01-01-2020',\\\n",
    "              'pwd':'12345'}"
   ]
  },
  {
   "cell_type": "code",
   "execution_count": 10,
   "id": "15a00773",
   "metadata": {},
   "outputs": [
    {
     "name": "stdout",
     "output_type": "stream",
     "text": [
      "{'username': 'codetrainingacademy', 'first_name': 'code', 'last_name': 'training', 'dob': '01-01-2020', 'pwd': '12345'}\n"
     ]
    }
   ],
   "source": [
    "print(useraccount)"
   ]
  },
  {
   "cell_type": "code",
   "execution_count": 11,
   "id": "19396962",
   "metadata": {},
   "outputs": [
    {
     "data": {
      "text/plain": [
       "dict"
      ]
     },
     "execution_count": 11,
     "metadata": {},
     "output_type": "execute_result"
    }
   ],
   "source": [
    "type(useraccount)"
   ]
  },
  {
   "cell_type": "code",
   "execution_count": null,
   "id": "f2d05d51",
   "metadata": {},
   "outputs": [],
   "source": [
    "# req : update status : dinner ---> farzi_cafe"
   ]
  },
  {
   "cell_type": "code",
   "execution_count": 12,
   "id": "f3d3d544",
   "metadata": {},
   "outputs": [],
   "source": [
    "useraccount['dinner'] = 'farzi_cafe'"
   ]
  },
  {
   "cell_type": "code",
   "execution_count": 13,
   "id": "50368c33",
   "metadata": {},
   "outputs": [
    {
     "name": "stdout",
     "output_type": "stream",
     "text": [
      "{'username': 'codetrainingacademy', 'first_name': 'code', 'last_name': 'training', 'dob': '01-01-2020', 'pwd': '12345', 'dinner': 'farzi_cafe'}\n"
     ]
    }
   ],
   "source": [
    "print(useraccount)"
   ]
  },
  {
   "cell_type": "code",
   "execution_count": null,
   "id": "e7dda26c",
   "metadata": {},
   "outputs": [],
   "source": []
  },
  {
   "cell_type": "code",
   "execution_count": null,
   "id": "898910fa",
   "metadata": {},
   "outputs": [],
   "source": [
    "# how to modify the values in a dictionary ...!"
   ]
  },
  {
   "cell_type": "code",
   "execution_count": 14,
   "id": "39542bee",
   "metadata": {},
   "outputs": [
    {
     "name": "stdout",
     "output_type": "stream",
     "text": [
      "{'color': 'green', 'points': 5, 'start_position': 0}\n"
     ]
    }
   ],
   "source": [
    "print(alien)"
   ]
  },
  {
   "cell_type": "code",
   "execution_count": null,
   "id": "e1e560ca",
   "metadata": {},
   "outputs": [],
   "source": [
    "# green ---> yellow..."
   ]
  },
  {
   "cell_type": "code",
   "execution_count": 15,
   "id": "e049344f",
   "metadata": {},
   "outputs": [],
   "source": [
    "alien['color'] = 'yellow'"
   ]
  },
  {
   "cell_type": "code",
   "execution_count": 16,
   "id": "47bc22e8",
   "metadata": {},
   "outputs": [
    {
     "name": "stdout",
     "output_type": "stream",
     "text": [
      "{'color': 'yellow', 'points': 5, 'start_position': 0}\n"
     ]
    }
   ],
   "source": [
    "print(alien)"
   ]
  },
  {
   "cell_type": "code",
   "execution_count": 17,
   "id": "13940cb3",
   "metadata": {},
   "outputs": [],
   "source": [
    "useraccount['pwd'] = '54321'"
   ]
  },
  {
   "cell_type": "code",
   "execution_count": 18,
   "id": "7e467516",
   "metadata": {},
   "outputs": [
    {
     "name": "stdout",
     "output_type": "stream",
     "text": [
      "{'username': 'codetrainingacademy', 'first_name': 'code', 'last_name': 'training', 'dob': '01-01-2020', 'pwd': '54321', 'dinner': 'farzi_cafe'}\n"
     ]
    }
   ],
   "source": [
    "print(useraccount)"
   ]
  },
  {
   "cell_type": "code",
   "execution_count": null,
   "id": "31a75bbe",
   "metadata": {},
   "outputs": [],
   "source": []
  },
  {
   "cell_type": "code",
   "execution_count": null,
   "id": "997be359",
   "metadata": {},
   "outputs": [],
   "source": [
    "# how to delete the key value pairs in a dict ...?"
   ]
  },
  {
   "cell_type": "code",
   "execution_count": 19,
   "id": "1eab74a2",
   "metadata": {},
   "outputs": [
    {
     "name": "stdout",
     "output_type": "stream",
     "text": [
      "{'color': 'yellow', 'points': 5, 'start_position': 0}\n"
     ]
    }
   ],
   "source": [
    "print(alien)"
   ]
  },
  {
   "cell_type": "code",
   "execution_count": null,
   "id": "55cf1e64",
   "metadata": {},
   "outputs": [],
   "source": [
    "# req : delete the points..."
   ]
  },
  {
   "cell_type": "code",
   "execution_count": 20,
   "id": "a5dc26ce",
   "metadata": {},
   "outputs": [],
   "source": [
    "del alien['points']"
   ]
  },
  {
   "cell_type": "code",
   "execution_count": 21,
   "id": "2f552683",
   "metadata": {},
   "outputs": [
    {
     "name": "stdout",
     "output_type": "stream",
     "text": [
      "{'color': 'yellow', 'start_position': 0}\n"
     ]
    }
   ],
   "source": [
    "print(alien)"
   ]
  },
  {
   "cell_type": "code",
   "execution_count": null,
   "id": "13ded6b9",
   "metadata": {},
   "outputs": [],
   "source": []
  }
 ],
 "metadata": {
  "kernelspec": {
   "display_name": "Python 3 (ipykernel)",
   "language": "python",
   "name": "python3"
  },
  "language_info": {
   "codemirror_mode": {
    "name": "ipython",
    "version": 3
   },
   "file_extension": ".py",
   "mimetype": "text/x-python",
   "name": "python",
   "nbconvert_exporter": "python",
   "pygments_lexer": "ipython3",
   "version": "3.9.7"
  }
 },
 "nbformat": 4,
 "nbformat_minor": 5
}
