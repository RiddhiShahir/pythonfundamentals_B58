{
 "cells": [
  {
   "cell_type": "code",
   "execution_count": null,
   "id": "8038f502",
   "metadata": {},
   "outputs": [],
   "source": [
    "Continuation with list datatype."
   ]
  },
  {
   "cell_type": "code",
   "execution_count": null,
   "id": "24b680da",
   "metadata": {},
   "outputs": [],
   "source": []
  },
  {
   "cell_type": "code",
   "execution_count": null,
   "id": "30461214",
   "metadata": {},
   "outputs": [],
   "source": [
    "Organizing the list datatype :"
   ]
  },
  {
   "cell_type": "code",
   "execution_count": null,
   "id": "852d9667",
   "metadata": {},
   "outputs": [],
   "source": []
  },
  {
   "cell_type": "code",
   "execution_count": 1,
   "id": "241c1057",
   "metadata": {},
   "outputs": [],
   "source": [
    "cars = ['kia','suzuki','audi','benz','tata','bmw']"
   ]
  },
  {
   "cell_type": "code",
   "execution_count": 2,
   "id": "a17ab6db",
   "metadata": {},
   "outputs": [
    {
     "name": "stdout",
     "output_type": "stream",
     "text": [
      "['kia', 'suzuki', 'audi', 'benz', 'tata', 'bmw']\n"
     ]
    }
   ],
   "source": [
    "print(cars)"
   ]
  },
  {
   "cell_type": "code",
   "execution_count": null,
   "id": "933f3309",
   "metadata": {},
   "outputs": [],
   "source": [
    "# req : i want to display the list in alphabetical order...? A-Z"
   ]
  },
  {
   "cell_type": "code",
   "execution_count": null,
   "id": "cb148f16",
   "metadata": {},
   "outputs": [],
   "source": [
    "1. temp approach ===> changes are applied temp ===> sorted\n",
    "\n",
    "2. permanent approach ===> changes are applied permanently ===>  sort"
   ]
  },
  {
   "cell_type": "code",
   "execution_count": 3,
   "id": "9ed2e21a",
   "metadata": {},
   "outputs": [
    {
     "name": "stdout",
     "output_type": "stream",
     "text": [
      "['audi', 'benz', 'bmw', 'kia', 'suzuki', 'tata']\n"
     ]
    }
   ],
   "source": [
    "print(sorted(cars))"
   ]
  },
  {
   "cell_type": "code",
   "execution_count": 4,
   "id": "1a64f147",
   "metadata": {},
   "outputs": [
    {
     "name": "stdout",
     "output_type": "stream",
     "text": [
      "['kia', 'suzuki', 'audi', 'benz', 'tata', 'bmw']\n"
     ]
    }
   ],
   "source": [
    "print(cars) # it is giving me the original order ...!"
   ]
  },
  {
   "cell_type": "code",
   "execution_count": null,
   "id": "78dad120",
   "metadata": {},
   "outputs": [],
   "source": []
  },
  {
   "cell_type": "code",
   "execution_count": 5,
   "id": "fd45381e",
   "metadata": {},
   "outputs": [],
   "source": [
    "cars.sort()"
   ]
  },
  {
   "cell_type": "code",
   "execution_count": 6,
   "id": "c9d21480",
   "metadata": {},
   "outputs": [
    {
     "name": "stdout",
     "output_type": "stream",
     "text": [
      "['audi', 'benz', 'bmw', 'kia', 'suzuki', 'tata']\n"
     ]
    }
   ],
   "source": [
    "print(cars)"
   ]
  },
  {
   "cell_type": "code",
   "execution_count": 7,
   "id": "7106ae10",
   "metadata": {},
   "outputs": [
    {
     "name": "stdout",
     "output_type": "stream",
     "text": [
      "['audi', 'benz', 'bmw', 'kia', 'suzuki', 'tata']\n"
     ]
    }
   ],
   "source": [
    "print(cars)"
   ]
  },
  {
   "cell_type": "code",
   "execution_count": null,
   "id": "3a3d7881",
   "metadata": {},
   "outputs": [],
   "source": []
  },
  {
   "cell_type": "code",
   "execution_count": null,
   "id": "d534c8f8",
   "metadata": {},
   "outputs": [],
   "source": [
    "# interview : what is the difference between sorted and sort method in a list datatype? can u please explain ?"
   ]
  },
  {
   "cell_type": "code",
   "execution_count": null,
   "id": "107a5c83",
   "metadata": {},
   "outputs": [],
   "source": []
  },
  {
   "cell_type": "code",
   "execution_count": 8,
   "id": "4ed86c27",
   "metadata": {},
   "outputs": [
    {
     "name": "stdout",
     "output_type": "stream",
     "text": [
      "['audi', 'benz', 'bmw', 'kia', 'suzuki', 'tata']\n"
     ]
    }
   ],
   "source": [
    "print(cars)"
   ]
  },
  {
   "cell_type": "code",
   "execution_count": null,
   "id": "b9f4ec3c",
   "metadata": {},
   "outputs": [],
   "source": [
    "# i want to print the list in the reverse order...?"
   ]
  },
  {
   "cell_type": "code",
   "execution_count": 9,
   "id": "7c203028",
   "metadata": {},
   "outputs": [],
   "source": [
    "cars.reverse()"
   ]
  },
  {
   "cell_type": "code",
   "execution_count": 10,
   "id": "ef9a0698",
   "metadata": {},
   "outputs": [
    {
     "name": "stdout",
     "output_type": "stream",
     "text": [
      "['tata', 'suzuki', 'kia', 'bmw', 'benz', 'audi']\n"
     ]
    }
   ],
   "source": [
    "print(cars)"
   ]
  },
  {
   "cell_type": "code",
   "execution_count": null,
   "id": "fca7c10d",
   "metadata": {},
   "outputs": [],
   "source": [
    "# req : i want to count the number of elements in the list ...?"
   ]
  },
  {
   "cell_type": "code",
   "execution_count": 11,
   "id": "0168c993",
   "metadata": {},
   "outputs": [
    {
     "data": {
      "text/plain": [
       "6"
      ]
     },
     "execution_count": 11,
     "metadata": {},
     "output_type": "execute_result"
    }
   ],
   "source": [
    "len(cars)"
   ]
  },
  {
   "cell_type": "code",
   "execution_count": null,
   "id": "84246fa0",
   "metadata": {},
   "outputs": [],
   "source": []
  },
  {
   "cell_type": "code",
   "execution_count": null,
   "id": "3aefea6a",
   "metadata": {},
   "outputs": [],
   "source": [
    "Introduction to slicing :"
   ]
  },
  {
   "cell_type": "code",
   "execution_count": null,
   "id": "bc2533f9",
   "metadata": {},
   "outputs": [],
   "source": []
  },
  {
   "cell_type": "code",
   "execution_count": 12,
   "id": "8c34bc0f",
   "metadata": {},
   "outputs": [],
   "source": [
    "students = ['ravi','joseph','naveed','imran','keerthi','shaheen','dolly','roohi'] #0,1,2,3,4,5,6,7"
   ]
  },
  {
   "cell_type": "code",
   "execution_count": 13,
   "id": "0bf6029c",
   "metadata": {},
   "outputs": [
    {
     "name": "stdout",
     "output_type": "stream",
     "text": [
      "['ravi', 'joseph', 'naveed', 'imran', 'keerthi', 'shaheen', 'dolly', 'roohi']\n"
     ]
    }
   ],
   "source": [
    "print(students)"
   ]
  },
  {
   "cell_type": "code",
   "execution_count": 14,
   "id": "6c6722f6",
   "metadata": {},
   "outputs": [
    {
     "data": {
      "text/plain": [
       "list"
      ]
     },
     "execution_count": 14,
     "metadata": {},
     "output_type": "execute_result"
    }
   ],
   "source": [
    "type(students)"
   ]
  },
  {
   "cell_type": "code",
   "execution_count": null,
   "id": "2961b079",
   "metadata": {},
   "outputs": [],
   "source": []
  },
  {
   "cell_type": "code",
   "execution_count": null,
   "id": "3115c7f8",
   "metadata": {},
   "outputs": [],
   "source": [
    "General syntax of slicing :"
   ]
  },
  {
   "cell_type": "code",
   "execution_count": null,
   "id": "3377dc51",
   "metadata": {},
   "outputs": [],
   "source": [
    "list[startvalue:stopvalue:stepcount]\n",
    "\n",
    "Note : stop value is always exclusive , to include the stop value have to increase the index by +1. "
   ]
  },
  {
   "cell_type": "code",
   "execution_count": null,
   "id": "9437922d",
   "metadata": {},
   "outputs": [],
   "source": [
    " #req : i want to include ravi and joseph in the list."
   ]
  },
  {
   "cell_type": "code",
   "execution_count": 15,
   "id": "4ad71bc7",
   "metadata": {},
   "outputs": [
    {
     "name": "stdout",
     "output_type": "stream",
     "text": [
      "['ravi']\n"
     ]
    }
   ],
   "source": [
    "print(students[0:1])"
   ]
  },
  {
   "cell_type": "code",
   "execution_count": 16,
   "id": "fbcc6355",
   "metadata": {},
   "outputs": [
    {
     "name": "stdout",
     "output_type": "stream",
     "text": [
      "['ravi', 'joseph']\n"
     ]
    }
   ],
   "source": [
    "print(students[0:2])"
   ]
  },
  {
   "cell_type": "code",
   "execution_count": 17,
   "id": "b42e57f1",
   "metadata": {},
   "outputs": [
    {
     "name": "stdout",
     "output_type": "stream",
     "text": [
      "['ravi', 'joseph', 'naveed', 'imran']\n"
     ]
    }
   ],
   "source": [
    "print(students[0:4])"
   ]
  },
  {
   "cell_type": "code",
   "execution_count": null,
   "id": "0735ff65",
   "metadata": {},
   "outputs": [],
   "source": [
    "# req 2: naveed and imran"
   ]
  },
  {
   "cell_type": "code",
   "execution_count": 18,
   "id": "2be6fc62",
   "metadata": {},
   "outputs": [
    {
     "name": "stdout",
     "output_type": "stream",
     "text": [
      "['naveed', 'imran']\n"
     ]
    }
   ],
   "source": [
    "print(students[2:4]) # original index of imran is 3 but for this we do +1 therefore it becomes 4"
   ]
  },
  {
   "cell_type": "code",
   "execution_count": null,
   "id": "c7032ff9",
   "metadata": {},
   "outputs": [],
   "source": [
    "# req 3 : dolly and roohi"
   ]
  },
  {
   "cell_type": "code",
   "execution_count": 19,
   "id": "788a4a6e",
   "metadata": {},
   "outputs": [
    {
     "name": "stdout",
     "output_type": "stream",
     "text": [
      "['dolly', 'roohi']\n"
     ]
    }
   ],
   "source": [
    "print(students[6:8])"
   ]
  },
  {
   "cell_type": "code",
   "execution_count": null,
   "id": "0866c634",
   "metadata": {},
   "outputs": [],
   "source": []
  },
  {
   "cell_type": "code",
   "execution_count": 20,
   "id": "3b64a8db",
   "metadata": {},
   "outputs": [
    {
     "name": "stdout",
     "output_type": "stream",
     "text": [
      "['ravi', 'joseph', 'naveed', 'imran', 'keerthi', 'shaheen', 'dolly', 'roohi']\n"
     ]
    }
   ],
   "source": [
    "print(students)"
   ]
  },
  {
   "cell_type": "code",
   "execution_count": null,
   "id": "db02bd0f",
   "metadata": {},
   "outputs": [],
   "source": [
    "# req : alternate student name"
   ]
  },
  {
   "cell_type": "code",
   "execution_count": 21,
   "id": "292f3a80",
   "metadata": {},
   "outputs": [
    {
     "name": "stdout",
     "output_type": "stream",
     "text": [
      "['ravi', 'naveed', 'keerthi', 'dolly']\n"
     ]
    }
   ],
   "source": [
    "print(students[0:7:2])"
   ]
  },
  {
   "cell_type": "code",
   "execution_count": 22,
   "id": "b44820bd",
   "metadata": {},
   "outputs": [
    {
     "name": "stdout",
     "output_type": "stream",
     "text": [
      "['ravi', 'imran', 'dolly']\n"
     ]
    }
   ],
   "source": [
    "print(students[0:7:3])"
   ]
  },
  {
   "cell_type": "code",
   "execution_count": 23,
   "id": "a97613e4",
   "metadata": {},
   "outputs": [
    {
     "name": "stdout",
     "output_type": "stream",
     "text": [
      "['ravi', 'keerthi']\n"
     ]
    }
   ],
   "source": [
    "print(students[0:7:4])"
   ]
  },
  {
   "cell_type": "code",
   "execution_count": 24,
   "id": "b4ff0a00",
   "metadata": {},
   "outputs": [
    {
     "name": "stdout",
     "output_type": "stream",
     "text": [
      "['ravi', 'dolly']\n"
     ]
    }
   ],
   "source": [
    "print(students[0:7:6])"
   ]
  },
  {
   "cell_type": "code",
   "execution_count": 25,
   "id": "3c74365a",
   "metadata": {},
   "outputs": [
    {
     "name": "stdout",
     "output_type": "stream",
     "text": [
      "['ravi']\n"
     ]
    }
   ],
   "source": [
    "print(students[0:7:7])"
   ]
  },
  {
   "cell_type": "code",
   "execution_count": 26,
   "id": "2d625b76",
   "metadata": {},
   "outputs": [
    {
     "name": "stdout",
     "output_type": "stream",
     "text": [
      "['ravi', 'joseph', 'naveed', 'imran', 'keerthi', 'shaheen', 'dolly']\n"
     ]
    }
   ],
   "source": [
    "print(students[0:7:1]) # as we have given stopvalue as 7 it is only counting till dolly as dolly= 6+1= 7 for stopvalue \n",
    "                          we consider index as +1 so as to take roohi we have to give stopvalue as 8"
   ]
  },
  {
   "cell_type": "code",
   "execution_count": 27,
   "id": "05a102e3",
   "metadata": {},
   "outputs": [
    {
     "name": "stdout",
     "output_type": "stream",
     "text": [
      "['ravi', 'naveed', 'keerthi', 'dolly']\n"
     ]
    }
   ],
   "source": [
    "print(students[0:8:2])"
   ]
  },
  {
   "cell_type": "code",
   "execution_count": 28,
   "id": "ba73e458",
   "metadata": {},
   "outputs": [
    {
     "name": "stdout",
     "output_type": "stream",
     "text": [
      "['ravi', 'roohi']\n"
     ]
    }
   ],
   "source": [
    "print(students[0:8:7])"
   ]
  },
  {
   "cell_type": "code",
   "execution_count": null,
   "id": "9bd32bd3",
   "metadata": {},
   "outputs": [],
   "source": []
  }
 ],
 "metadata": {
  "kernelspec": {
   "display_name": "Python 3 (ipykernel)",
   "language": "python",
   "name": "python3"
  },
  "language_info": {
   "codemirror_mode": {
    "name": "ipython",
    "version": 3
   },
   "file_extension": ".py",
   "mimetype": "text/x-python",
   "name": "python",
   "nbconvert_exporter": "python",
   "pygments_lexer": "ipython3",
   "version": "3.9.7"
  }
 },
 "nbformat": 4,
 "nbformat_minor": 5
}
